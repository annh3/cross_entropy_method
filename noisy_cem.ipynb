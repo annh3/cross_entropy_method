{
 "cells": [
  {
   "cell_type": "code",
   "execution_count": 1,
   "id": "discrete-dependence",
   "metadata": {},
   "outputs": [],
   "source": [
    "import numpy as np\n",
    "from matplotlib import pyplot as plt \n",
    "import pdb"
   ]
  },
  {
   "cell_type": "code",
   "execution_count": 2,
   "id": "proof-trouble",
   "metadata": {},
   "outputs": [],
   "source": [
    "def F_1(X):\n",
    "    #pdb.set_trace()\n",
    "    if len(X.shape) == 1:\n",
    "        X_0s = X[0]\n",
    "    else:\n",
    "        X_0s = X[:,0]\n",
    "    return np.minimum(X_0s, 20-X_0s)"
   ]
  },
  {
   "cell_type": "code",
   "execution_count": 3,
   "id": "integral-tolerance",
   "metadata": {},
   "outputs": [],
   "source": [
    "def Booth(X):\n",
    "    if len(X.shape) == 1:\n",
    "        return -(X[0]+2*X[1]-7)**2 + (2*X[0]+X[1]-5)**2\n",
    "    else:\n",
    "        return -(X[:,0]+2*X[:,1]-7)**2 + (2*X[:,0]+X[:,1]-5)**2"
   ]
  },
  {
   "cell_type": "code",
   "execution_count": 4,
   "id": "round-pixel",
   "metadata": {},
   "outputs": [],
   "source": [
    "def CEM(num_iters, F, pop_size=10):\n",
    "    cov_norms = np.zeros(num_iters)\n",
    "    N = pop_size # population\n",
    "    d = 2 # dimension of problem\n",
    "    p = 0.5 # elite fraction\n",
    "    elite_k = int(p*N)\n",
    "\n",
    "    mu = np.random.randn(d) # std normal init\n",
    "    cov = 0.1*np.eye(d) # initialize sigma to 0.1? Can change this\n",
    "\n",
    "    for i in range(num_iters):\n",
    "        if i % 50 == 0:\n",
    "            print(\"iteration: \", str(i))\n",
    "            print(\"cov norm: \", np.linalg.norm(cov))\n",
    "            print(\"F val: \", F(mu))\n",
    "    \n",
    "    \n",
    "        # sample noise\n",
    "        x_guesses = np.random.multivariate_normal(mean=mu, cov=cov, size=N)\n",
    "        #print(\"x guesses shape: \", x_guesses.shape)\n",
    "    \n",
    "        # eval sample\n",
    "        Fs = F(x_guesses)\n",
    "        #print(\"Fs shape: \", Fs.shape)\n",
    "        \n",
    "        # compute elite set\n",
    "        elite_idx = (-Fs).argsort()[:elite_k]\n",
    "        #print(\"elite idx: \", elite_idx)\n",
    "\n",
    "        Fs_elite = Fs[elite_idx]\n",
    "        #print(Fs_elite)\n",
    "        Fs_elite_xs = x_guesses[elite_idx]\n",
    "        \n",
    "        mu = np.mean(Fs_elite_xs, axis=0)\n",
    "        #print(\"mu shape: \", mu.shape)\n",
    "        \n",
    "        # fit covariance\n",
    "        # Xs_elite - mu\n",
    "        \n",
    "        res1 = Fs_elite_xs - mu\n",
    "        #res1 = np.sum(res1)\n",
    "        #print(\"res1 shape: \", res1.shape)\n",
    "        res = np.dot(res1.T,res1)\n",
    "        #print(\"res cov shape: \", res.shape)\n",
    "        cov = (1/elite_k)*np.dot(res1.T,res1)\n",
    "        # extract diag\n",
    "        cov = np.diag(cov)\n",
    "        # create matrix\n",
    "        cov = np.diag(cov)\n",
    "        cov_norms[i] = np.linalg.norm(cov)\n",
    "        #print(\"COV: \", cov)\n",
    "        \n",
    "    return mu, cov_norms"
   ]
  },
  {
   "cell_type": "code",
   "execution_count": 5,
   "id": "accomplished-coordinate",
   "metadata": {},
   "outputs": [
    {
     "name": "stdout",
     "output_type": "stream",
     "text": [
      "iteration:  0\n",
      "cov norm:  0.14142135623730953\n",
      "F val:  0.9073057168191517\n",
      "iteration:  50\n",
      "cov norm:  1.5995730257517393e-17\n",
      "F val:  1.8512844913739392\n"
     ]
    }
   ],
   "source": [
    "num_iters = 100\n",
    "mu, cov_norms = CEM(num_iters, F_1)"
   ]
  },
  {
   "cell_type": "code",
   "execution_count": 6,
   "id": "widespread-original",
   "metadata": {},
   "outputs": [
    {
     "data": {
      "image/png": "[encoded data removed]",
      "text/plain": [
       "<Figure size 432x288 with 1 Axes>"
      ]
     },
     "metadata": {
      "needs_background": "light"
     },
     "output_type": "display_data"
    }
   ],
   "source": [
    "# plot cov norm\n",
    "x = np.arange(num_iters) \n",
    "y = cov_norms\n",
    "plt.title(\"Covariance Decay\") \n",
    "plt.xlabel(\"iter\") \n",
    "plt.ylabel(\"Covariance Matrix Norm\") \n",
    "plt.plot(x,y) \n",
    "plt.show()"
   ]
  },
  {
   "cell_type": "markdown",
   "id": "spatial-firewall",
   "metadata": {},
   "source": [
    "We've just shown that normal CEM suffers from covariance decay. Now let's try to implement Noisy CEM"
   ]
  },
  {
   "cell_type": "code",
   "execution_count": 7,
   "id": "cleared-patient",
   "metadata": {},
   "outputs": [],
   "source": [
    "def noisy_CEM(num_iters, F, pop_size=10):\n",
    "    cov_norms = np.zeros(num_iters)\n",
    "    N = pop_size # population\n",
    "    d = 2 # dimension of problem\n",
    "    p = 0.5 # elite fraction\n",
    "    elite_k = int(p*N)\n",
    "    obj_vals = np.zeros(num_iters)\n",
    "\n",
    "    mu = np.random.randn(d) # std normal init\n",
    "    cov = 0.1*np.eye(d) # initialize sigma to 0.1? Can change this\n",
    "    print(\"init cov shape: \", cov.shape)\n",
    "\n",
    "    for i in range(num_iters):\n",
    "        if i % 50 == 0:\n",
    "            print(\"iteration: \", str(i))\n",
    "            print(\"cov shape: \", cov.shape)\n",
    "            print(\"cov norm: \", np.linalg.norm(cov))\n",
    "            print(\"F val: \", F(mu))\n",
    "    \n",
    "    \n",
    "        # sample noise\n",
    "        x_guesses = np.random.multivariate_normal(mean=mu, cov=cov, size=N)\n",
    "        #print(\"x guesses shape: \", x_guesses.shape)\n",
    "    \n",
    "        # eval sample\n",
    "        Fs = F(x_guesses)\n",
    "        #print(\"Fs shape: \", Fs.shape)\n",
    "        \n",
    "        # compute elite set\n",
    "        elite_idx = (-Fs).argsort()[:elite_k]\n",
    "        #print(\"elite idx: \", elite_idx)\n",
    "\n",
    "        Fs_elite = Fs[elite_idx]\n",
    "        #print(Fs_elite)\n",
    "        Fs_elite_xs = x_guesses[elite_idx]\n",
    "        \n",
    "        mu = np.mean(Fs_elite_xs, axis=0)\n",
    "        #print(\"mu shape: \", mu.shape)\n",
    "        \n",
    "        # fit covariance\n",
    "        # Xs_elite - mu\n",
    "        \n",
    "        res1 = Fs_elite_xs - mu\n",
    "        #res1 = np.sum(res1)\n",
    "        #print(\"res1 shape: \", res1.shape)\n",
    "        avg_elite = np.mean(res1,axis=0)\n",
    "        s_i = 1 - i/float(num_iters)\n",
    "        sigma_squared = avg_elite**2 + s_i**2\n",
    "        #print(\"sigma square shape: \", sigma_squared.shape)\n",
    "        cov = np.diag(cov)\n",
    "        cov = np.diag(cov)\n",
    "        #print(\"cov shape: \", cov.shape)\n",
    "        cov_norms[i] = np.linalg.norm(cov)\n",
    "        obj_vals[i] = F(mu)\n",
    "        \n",
    "    return mu, cov_norms, obj_vals"
   ]
  },
  {
   "cell_type": "code",
   "execution_count": 8,
   "id": "satisfactory-harvey",
   "metadata": {},
   "outputs": [
    {
     "name": "stdout",
     "output_type": "stream",
     "text": [
      "init cov shape:  (2, 2)\n",
      "iteration:  0\n",
      "cov shape:  (2, 2)\n",
      "cov norm:  0.14142135623730953\n",
      "F val:  -1.5398593141543129\n",
      "iteration:  50\n",
      "cov shape:  (2, 2)\n",
      "cov norm:  0.14142135623730953\n",
      "F val:  9.964186014658416\n"
     ]
    }
   ],
   "source": [
    "num_iters = 100\n",
    "mu, cov_norms, obj_vals = noisy_CEM(num_iters, F_1)"
   ]
  },
  {
   "cell_type": "code",
   "execution_count": 9,
   "id": "palestinian-block",
   "metadata": {},
   "outputs": [
    {
     "data": {
      "image/png": "[encoded data removed]",
      "text/plain": [
       "<Figure size 432x288 with 1 Axes>"
      ]
     },
     "metadata": {
      "needs_background": "light"
     },
     "output_type": "display_data"
    }
   ],
   "source": [
    "# plot cov norm\n",
    "x = np.arange(num_iters) \n",
    "y = cov_norms\n",
    "plt.title(\"Covariance Decay\") \n",
    "plt.xlabel(\"iter\") \n",
    "plt.ylabel(\"Covariance Matrix Norm\") \n",
    "plt.plot(x,y) \n",
    "plt.show()"
   ]
  },
  {
   "cell_type": "code",
   "execution_count": 10,
   "id": "acceptable-flower",
   "metadata": {},
   "outputs": [
    {
     "name": "stdout",
     "output_type": "stream",
     "text": [
      "[9.95496459 0.0941619 ]\n"
     ]
    }
   ],
   "source": [
    "print(mu)"
   ]
  },
  {
   "cell_type": "markdown",
   "id": "colonial-butler",
   "metadata": {},
   "source": [
    "Our new alg, noisy CEM, finds the max solution, $x_0 = 10$"
   ]
  },
  {
   "cell_type": "code",
   "execution_count": 11,
   "id": "pleasant-battery",
   "metadata": {},
   "outputs": [
    {
     "name": "stdout",
     "output_type": "stream",
     "text": [
      "init cov shape:  (2, 2)\n",
      "iteration:  0\n",
      "cov shape:  (2, 2)\n",
      "cov norm:  0.14142135623730953\n",
      "F val:  -6.538705825925032\n",
      "iteration:  50\n",
      "cov shape:  (2, 2)\n",
      "cov norm:  0.14142135623730953\n",
      "F val:  521.2909405338993\n"
     ]
    }
   ],
   "source": [
    "num_iters = 100\n",
    "mu, cov_norms, obj_vals = noisy_CEM(num_iters, Booth)"
   ]
  },
  {
   "cell_type": "code",
   "execution_count": 12,
   "id": "possible-freeze",
   "metadata": {},
   "outputs": [
    {
     "name": "stdout",
     "output_type": "stream",
     "text": [
      "[-22.68137643   2.98933836]\n"
     ]
    }
   ],
   "source": [
    "print(mu)"
   ]
  },
  {
   "cell_type": "code",
   "execution_count": 13,
   "id": "toxic-certificate",
   "metadata": {},
   "outputs": [
    {
     "data": {
      "image/png": "[encoded data removed]",
      "text/plain": [
       "<Figure size 432x288 with 1 Axes>"
      ]
     },
     "metadata": {
      "needs_background": "light"
     },
     "output_type": "display_data"
    }
   ],
   "source": [
    "# plot cov norm\n",
    "x = np.arange(num_iters) \n",
    "y = cov_norms\n",
    "plt.title(\"Covariance Decay\") \n",
    "plt.xlabel(\"iter\") \n",
    "plt.ylabel(\"Covariance Matrix Norm\") \n",
    "plt.plot(x,y) \n",
    "plt.show()"
   ]
  },
  {
   "cell_type": "code",
   "execution_count": 14,
   "id": "unknown-entity",
   "metadata": {},
   "outputs": [
    {
     "data": {
      "image/png": "[encoded data removed]",
      "text/plain": [
       "<Figure size 432x288 with 1 Axes>"
      ]
     },
     "metadata": {
      "needs_background": "light"
     },
     "output_type": "display_data"
    }
   ],
   "source": [
    "# plot obj vals\n",
    "x = np.arange(num_iters) \n",
    "y = obj_vals\n",
    "plt.title(\"F vals - Booth\") \n",
    "plt.xlabel(\"iter\") \n",
    "plt.ylabel(\"F\") \n",
    "plt.plot(x,y) \n",
    "plt.show()"
   ]
  },
  {
   "cell_type": "code",
   "execution_count": 15,
   "id": "plain-vegetation",
   "metadata": {},
   "outputs": [],
   "source": [
    "# Test on quadratic function\n",
    "\n",
    "\n",
    "def Quadratic(X): # X is N by d\n",
    "    A = [[2.,6],[6,20]]\n",
    "    A = np.asarray(A)\n",
    "    B = [2,4]\n",
    "    B = np.asarray(B)\n",
    "    B = np.expand_dims(B,axis=1)\n",
    "    results = np.zeros(X.shape[0])\n",
    "    if len(X.shape) == 1:\n",
    "        return -X.T @ A @ X + np.dot(B.T,X)\n",
    "    for i in range(X.shape[0]):\n",
    "        results[i] = X[i,:].T @ A @ X[i,:] + np.dot(B.T,X[i,:])\n",
    "    return -1* results"
   ]
  },
  {
   "cell_type": "code",
   "execution_count": 16,
   "id": "oriented-concrete",
   "metadata": {},
   "outputs": [],
   "source": [
    "def Quadratic2(X): # X is N by d\n",
    "    A = [[2.,6],[6,20]]\n",
    "    A = np.asarray(A)\n",
    "    B = [2,4]\n",
    "    B = np.asarray(B)\n",
    "    B = np.expand_dims(B,axis=1)\n",
    "    results = np.zeros(X.shape[0])\n",
    "    if len(X.shape) == 1:\n",
    "        return -X.T @ A @ X \n",
    "    for i in range(X.shape[0]):\n",
    "        results[i] = X[i,:].T @ A @ X[i,:] \n",
    "    return -1* results"
   ]
  },
  {
   "cell_type": "code",
   "execution_count": 17,
   "id": "engaging-messenger",
   "metadata": {},
   "outputs": [
    {
     "name": "stdout",
     "output_type": "stream",
     "text": [
      "(10,)\n"
     ]
    }
   ],
   "source": [
    "X = np.random.randn(10,2)\n",
    "res = Quadratic(X)\n",
    "print(res.shape)"
   ]
  },
  {
   "cell_type": "code",
   "execution_count": 18,
   "id": "peripheral-trance",
   "metadata": {},
   "outputs": [
    {
     "name": "stdout",
     "output_type": "stream",
     "text": [
      "init cov shape:  (2, 2)\n",
      "iteration:  0\n",
      "cov shape:  (2, 2)\n",
      "cov norm:  0.14142135623730953\n",
      "F val:  [-0.25617627]\n",
      "iteration:  50\n",
      "cov shape:  (2, 2)\n",
      "cov norm:  0.14142135623730953\n",
      "F val:  [-0.50567778]\n"
     ]
    }
   ],
   "source": [
    "num_iters = 100\n",
    "mu, cov_norms, obj_vals = noisy_CEM(num_iters, Quadratic)"
   ]
  },
  {
   "cell_type": "code",
   "execution_count": 19,
   "id": "joined-wisdom",
   "metadata": {},
   "outputs": [
    {
     "data": {
      "image/png": "[encoded data removed]",
      "text/plain": [
       "<Figure size 432x288 with 1 Axes>"
      ]
     },
     "metadata": {
      "needs_background": "light"
     },
     "output_type": "display_data"
    }
   ],
   "source": [
    "# plot obj vals\n",
    "x = np.arange(num_iters) \n",
    "y = obj_vals\n",
    "plt.title(\"F vals - Parabola\") \n",
    "plt.xlabel(\"iter\") \n",
    "plt.ylabel(\"F\") \n",
    "plt.plot(x,y) \n",
    "plt.show()"
   ]
  },
  {
   "cell_type": "code",
   "execution_count": 20,
   "id": "actual-london",
   "metadata": {},
   "outputs": [
    {
     "name": "stdout",
     "output_type": "stream",
     "text": [
      "init cov shape:  (2, 2)\n",
      "iteration:  0\n",
      "cov shape:  (2, 2)\n",
      "cov norm:  0.14142135623730953\n",
      "F val:  [-29.99375388]\n",
      "iteration:  50\n",
      "cov shape:  (2, 2)\n",
      "cov norm:  0.14142135623730953\n",
      "F val:  [-1.56137162]\n",
      "iteration:  100\n",
      "cov shape:  (2, 2)\n",
      "cov norm:  0.14142135623730953\n",
      "F val:  [-2.87423288]\n",
      "iteration:  150\n",
      "cov shape:  (2, 2)\n",
      "cov norm:  0.14142135623730953\n",
      "F val:  [-2.68512584]\n",
      "iteration:  200\n",
      "cov shape:  (2, 2)\n",
      "cov norm:  0.14142135623730953\n",
      "F val:  [-2.07034292]\n",
      "iteration:  250\n",
      "cov shape:  (2, 2)\n",
      "cov norm:  0.14142135623730953\n",
      "F val:  [-2.82792094]\n",
      "iteration:  300\n",
      "cov shape:  (2, 2)\n",
      "cov norm:  0.14142135623730953\n",
      "F val:  [-3.21237346]\n",
      "iteration:  350\n",
      "cov shape:  (2, 2)\n",
      "cov norm:  0.14142135623730953\n",
      "F val:  [-2.83101254]\n",
      "iteration:  400\n",
      "cov shape:  (2, 2)\n",
      "cov norm:  0.14142135623730953\n",
      "F val:  [-3.71312214]\n",
      "iteration:  450\n",
      "cov shape:  (2, 2)\n",
      "cov norm:  0.14142135623730953\n",
      "F val:  [-4.06292664]\n",
      "iteration:  500\n",
      "cov shape:  (2, 2)\n",
      "cov norm:  0.14142135623730953\n",
      "F val:  [-2.4972913]\n",
      "iteration:  550\n",
      "cov shape:  (2, 2)\n",
      "cov norm:  0.14142135623730953\n",
      "F val:  [-3.30247959]\n",
      "iteration:  600\n",
      "cov shape:  (2, 2)\n",
      "cov norm:  0.14142135623730953\n",
      "F val:  [-3.75922788]\n",
      "iteration:  650\n",
      "cov shape:  (2, 2)\n",
      "cov norm:  0.14142135623730953\n",
      "F val:  [-3.03257733]\n",
      "iteration:  700\n",
      "cov shape:  (2, 2)\n",
      "cov norm:  0.14142135623730953\n",
      "F val:  [-3.06624302]\n",
      "iteration:  750\n",
      "cov shape:  (2, 2)\n",
      "cov norm:  0.14142135623730953\n",
      "F val:  [-2.63957684]\n",
      "iteration:  800\n",
      "cov shape:  (2, 2)\n",
      "cov norm:  0.14142135623730953\n",
      "F val:  [-3.11807189]\n",
      "iteration:  850\n",
      "cov shape:  (2, 2)\n",
      "cov norm:  0.14142135623730953\n",
      "F val:  [-3.73716005]\n",
      "iteration:  900\n",
      "cov shape:  (2, 2)\n",
      "cov norm:  0.14142135623730953\n",
      "F val:  [-3.45883431]\n",
      "iteration:  950\n",
      "cov shape:  (2, 2)\n",
      "cov norm:  0.14142135623730953\n",
      "F val:  [-3.34275499]\n"
     ]
    }
   ],
   "source": [
    "num_iters = 1000\n",
    "mu, cov_norms, obj_vals = noisy_CEM(num_iters, Quadratic, pop_size=50)"
   ]
  },
  {
   "cell_type": "code",
   "execution_count": 21,
   "id": "relative-state",
   "metadata": {},
   "outputs": [
    {
     "data": {
      "image/png": "[encoded data removed]",
      "text/plain": [
       "<Figure size 432x288 with 1 Axes>"
      ]
     },
     "metadata": {
      "needs_background": "light"
     },
     "output_type": "display_data"
    }
   ],
   "source": [
    "# plot obj vals\n",
    "x = np.arange(num_iters) \n",
    "y = obj_vals\n",
    "plt.title(\"F vals - Parabola - pop 50, iter 1000\") \n",
    "plt.xlabel(\"iter\") \n",
    "plt.ylabel(\"F\") \n",
    "plt.plot(x,y) \n",
    "plt.show()"
   ]
  },
  {
   "cell_type": "code",
   "execution_count": null,
   "id": "foreign-sweden",
   "metadata": {},
   "outputs": [],
   "source": []
  },
  {
   "cell_type": "code",
   "execution_count": 22,
   "id": "stupid-precipitation",
   "metadata": {},
   "outputs": [
    {
     "name": "stdout",
     "output_type": "stream",
     "text": [
      "(10,)\n"
     ]
    }
   ],
   "source": [
    "X = np.random.randn(10,2)\n",
    "res = Quadratic(X)\n",
    "print(res.shape)"
   ]
  },
  {
   "cell_type": "markdown",
   "id": "former-dutch",
   "metadata": {},
   "source": [
    "Alg is not converging at maximum value, 0"
   ]
  },
  {
   "cell_type": "markdown",
   "id": "invalid-maria",
   "metadata": {},
   "source": [
    "#### Rosenbrock"
   ]
  },
  {
   "cell_type": "code",
   "execution_count": 23,
   "id": "wireless-cowboy",
   "metadata": {},
   "outputs": [],
   "source": [
    "def Rosenbrock(X):\n",
    "    if len(X.shape) == 1:\n",
    "        val = -1*(1-X[0])**2 + 100*(X[1]-X[0]**2)**2\n",
    "        return val\n",
    "    else:\n",
    "        vals = np.zeros(X.shape[0])\n",
    "        for i in range(X.shape[0]):\n",
    "            vals[i] = (1-X[i,0])**2 + 100*(X[i,1]-X[i,0]**2)**2\n",
    "        return -1*vals"
   ]
  },
  {
   "cell_type": "code",
   "execution_count": 24,
   "id": "liquid-accommodation",
   "metadata": {},
   "outputs": [
    {
     "name": "stdout",
     "output_type": "stream",
     "text": [
      "init cov shape:  (2, 2)\n",
      "iteration:  0\n",
      "cov shape:  (2, 2)\n",
      "cov norm:  0.14142135623730953\n",
      "F val:  165.8835440393455\n",
      "iteration:  50\n",
      "cov shape:  (2, 2)\n",
      "cov norm:  0.14142135623730953\n",
      "F val:  -0.4587002167996693\n",
      "iteration:  100\n",
      "cov shape:  (2, 2)\n",
      "cov norm:  0.14142135623730953\n",
      "F val:  0.15136215237214012\n",
      "iteration:  150\n",
      "cov shape:  (2, 2)\n",
      "cov norm:  0.14142135623730953\n",
      "F val:  -0.4835181982348479\n",
      "iteration:  200\n",
      "cov shape:  (2, 2)\n",
      "cov norm:  0.14142135623730953\n",
      "F val:  0.02544910596223038\n",
      "iteration:  250\n",
      "cov shape:  (2, 2)\n",
      "cov norm:  0.14142135623730953\n",
      "F val:  0.3559961783265848\n",
      "iteration:  300\n",
      "cov shape:  (2, 2)\n",
      "cov norm:  0.14142135623730953\n",
      "F val:  0.2538231094129235\n",
      "iteration:  350\n",
      "cov shape:  (2, 2)\n",
      "cov norm:  0.14142135623730953\n",
      "F val:  0.5111111234676646\n",
      "iteration:  400\n",
      "cov shape:  (2, 2)\n",
      "cov norm:  0.14142135623730953\n",
      "F val:  -0.1964313856142783\n",
      "iteration:  450\n",
      "cov shape:  (2, 2)\n",
      "cov norm:  0.14142135623730953\n",
      "F val:  -0.23789990493855484\n",
      "iteration:  500\n",
      "cov shape:  (2, 2)\n",
      "cov norm:  0.14142135623730953\n",
      "F val:  0.6355230034616328\n",
      "iteration:  550\n",
      "cov shape:  (2, 2)\n",
      "cov norm:  0.14142135623730953\n",
      "F val:  -0.06513174889045187\n",
      "iteration:  600\n",
      "cov shape:  (2, 2)\n",
      "cov norm:  0.14142135623730953\n",
      "F val:  -0.29424524544374103\n",
      "iteration:  650\n",
      "cov shape:  (2, 2)\n",
      "cov norm:  0.14142135623730953\n",
      "F val:  0.07826671206848013\n",
      "iteration:  700\n",
      "cov shape:  (2, 2)\n",
      "cov norm:  0.14142135623730953\n",
      "F val:  -0.07782184579779161\n",
      "iteration:  750\n",
      "cov shape:  (2, 2)\n",
      "cov norm:  0.14142135623730953\n",
      "F val:  0.18420338254683688\n",
      "iteration:  800\n",
      "cov shape:  (2, 2)\n",
      "cov norm:  0.14142135623730953\n",
      "F val:  -0.5006936819276462\n",
      "iteration:  850\n",
      "cov shape:  (2, 2)\n",
      "cov norm:  0.14142135623730953\n",
      "F val:  -0.8505504054814476\n",
      "iteration:  900\n",
      "cov shape:  (2, 2)\n",
      "cov norm:  0.14142135623730953\n",
      "F val:  0.8079549664619213\n",
      "iteration:  950\n",
      "cov shape:  (2, 2)\n",
      "cov norm:  0.14142135623730953\n",
      "F val:  -0.07401710647360638\n"
     ]
    }
   ],
   "source": [
    "num_iters = 1000\n",
    "mu, cov_norms, obj_vals = noisy_CEM(num_iters, Rosenbrock, pop_size=50)"
   ]
  },
  {
   "cell_type": "code",
   "execution_count": 25,
   "id": "social-zimbabwe",
   "metadata": {},
   "outputs": [
    {
     "data": {
      "image/png": "[encoded data removed]",
      "text/plain": [
       "<Figure size 432x288 with 1 Axes>"
      ]
     },
     "metadata": {
      "needs_background": "light"
     },
     "output_type": "display_data"
    }
   ],
   "source": [
    "# plot obj vals\n",
    "x = np.arange(num_iters) \n",
    "y = obj_vals\n",
    "plt.title(\"F vals - Rosenbrock\") \n",
    "plt.xlabel(\"iter\") \n",
    "plt.ylabel(\"F\") \n",
    "plt.plot(x,y) \n",
    "plt.show()"
   ]
  },
  {
   "cell_type": "code",
   "execution_count": 26,
   "id": "wooden-execution",
   "metadata": {},
   "outputs": [
    {
     "name": "stdout",
     "output_type": "stream",
     "text": [
      "[0.10111488 0.05880098]\n"
     ]
    }
   ],
   "source": [
    "print(mu)"
   ]
  },
  {
   "cell_type": "markdown",
   "id": "beginning-partner",
   "metadata": {},
   "source": [
    "It looks like we are converging to the Rosenbrock valley, but not the global minimum.\n",
    "\n",
    "from [mathworks](https://www.mathworks.com/matlabcentral/mlc-downloads/downloads/submissions/23972/versions/22/previews/chebfun/examples/opt/html/Rosenbrock.html)\n",
    "\n",
    "$f(x,y) = (1-x)^2 + 100 \\cdot (y-x^2)^2$\n",
    "\n",
    "has global min of $0$ at $(x,y) = (1,1)$"
   ]
  },
  {
   "cell_type": "markdown",
   "id": "urban-savings",
   "metadata": {},
   "source": [
    "#### How can we fix this?\n",
    "\n",
    "Perhaps there's not enough exploration.... increase noise for covariance?\n",
    "\n",
    "What happens if we set $s_t = 1$, i.e. make sure cov is at least 1?"
   ]
  },
  {
   "cell_type": "code",
   "execution_count": 27,
   "id": "lesser-typing",
   "metadata": {},
   "outputs": [],
   "source": [
    "def fix_noisy_CEM(num_iters, F, pop_size=10, ):\n",
    "    cov_norms = np.zeros(num_iters)\n",
    "    N = pop_size # population\n",
    "    d = 2 # dimension of problem\n",
    "    p = 0.5 # elite fraction\n",
    "    elite_k = int(p*N)\n",
    "    obj_vals = np.zeros(num_iters)\n",
    "\n",
    "    mu = np.random.randn(d) # std normal init\n",
    "    cov = 0.1*np.eye(d) # initialize sigma to 0.1? Can change this\n",
    "    print(\"init cov shape: \", cov.shape)\n",
    "\n",
    "    for i in range(num_iters):\n",
    "        if i % 50 == 0:\n",
    "            print(\"iteration: \", str(i))\n",
    "            print(\"cov shape: \", cov.shape)\n",
    "            print(\"cov norm: \", np.linalg.norm(cov))\n",
    "            print(\"F val: \", F(mu))\n",
    "    \n",
    "    \n",
    "        # sample noise\n",
    "        x_guesses = np.random.multivariate_normal(mean=mu, cov=cov, size=N)\n",
    "        #print(\"x guesses shape: \", x_guesses.shape)\n",
    "    \n",
    "        # eval sample\n",
    "        Fs = F(x_guesses)\n",
    "        #print(\"Fs shape: \", Fs.shape)\n",
    "        \n",
    "        # compute elite set\n",
    "        elite_idx = (-Fs).argsort()[:elite_k]\n",
    "        #print(\"elite idx: \", elite_idx)\n",
    "\n",
    "        Fs_elite = Fs[elite_idx]\n",
    "        #print(Fs_elite)\n",
    "        Fs_elite_xs = x_guesses[elite_idx]\n",
    "        \n",
    "        mu = np.mean(Fs_elite_xs, axis=0)\n",
    "        #print(\"mu shape: \", mu.shape)\n",
    "        \n",
    "        # fit covariance\n",
    "        # Xs_elite - mu\n",
    "        \n",
    "        res1 = Fs_elite_xs - mu\n",
    "        #res1 = np.sum(res1)\n",
    "        #print(\"res1 shape: \", res1.shape)\n",
    "        avg_elite = np.mean(res1,axis=0)\n",
    "        s_i = 1 - i/(2*num_iters)\n",
    "        sigma_squared = avg_elite**2 + s_i**2\n",
    "        #print(\"sigma square shape: \", sigma_squared.shape)\n",
    "        cov = np.diag(cov)\n",
    "        cov = np.diag(cov)\n",
    "        #print(\"cov shape: \", cov.shape)\n",
    "        cov_norms[i] = np.linalg.norm(cov)\n",
    "        obj_vals[i] = F(mu)\n",
    "        \n",
    "    return mu, cov_norms, obj_vals"
   ]
  },
  {
   "cell_type": "code",
   "execution_count": 28,
   "id": "binary-regression",
   "metadata": {},
   "outputs": [
    {
     "name": "stdout",
     "output_type": "stream",
     "text": [
      "init cov shape:  (2, 2)\n",
      "iteration:  0\n",
      "cov shape:  (2, 2)\n",
      "cov norm:  0.14142135623730953\n",
      "F val:  22.223343741930897\n",
      "iteration:  50\n",
      "cov shape:  (2, 2)\n",
      "cov norm:  0.14142135623730953\n",
      "F val:  -0.27287255013587886\n",
      "iteration:  100\n",
      "cov shape:  (2, 2)\n",
      "cov norm:  0.14142135623730953\n",
      "F val:  0.36093724327476495\n",
      "iteration:  150\n",
      "cov shape:  (2, 2)\n",
      "cov norm:  0.14142135623730953\n",
      "F val:  -0.39100898196517875\n",
      "iteration:  200\n",
      "cov shape:  (2, 2)\n",
      "cov norm:  0.14142135623730953\n",
      "F val:  1.62153658718838\n",
      "iteration:  250\n",
      "cov shape:  (2, 2)\n",
      "cov norm:  0.14142135623730953\n",
      "F val:  -0.8845932366999837\n",
      "iteration:  300\n",
      "cov shape:  (2, 2)\n",
      "cov norm:  0.14142135623730953\n",
      "F val:  -0.38862571330071816\n",
      "iteration:  350\n",
      "cov shape:  (2, 2)\n",
      "cov norm:  0.14142135623730953\n",
      "F val:  1.2395206046825873\n",
      "iteration:  400\n",
      "cov shape:  (2, 2)\n",
      "cov norm:  0.14142135623730953\n",
      "F val:  0.09027785984395087\n",
      "iteration:  450\n",
      "cov shape:  (2, 2)\n",
      "cov norm:  0.14142135623730953\n",
      "F val:  0.33113371217245535\n",
      "iteration:  500\n",
      "cov shape:  (2, 2)\n",
      "cov norm:  0.14142135623730953\n",
      "F val:  0.6709318674936817\n",
      "iteration:  550\n",
      "cov shape:  (2, 2)\n",
      "cov norm:  0.14142135623730953\n",
      "F val:  1.3421099243412593\n",
      "iteration:  600\n",
      "cov shape:  (2, 2)\n",
      "cov norm:  0.14142135623730953\n",
      "F val:  -0.7807371551857599\n",
      "iteration:  650\n",
      "cov shape:  (2, 2)\n",
      "cov norm:  0.14142135623730953\n",
      "F val:  -0.06556637177183067\n",
      "iteration:  700\n",
      "cov shape:  (2, 2)\n",
      "cov norm:  0.14142135623730953\n",
      "F val:  0.31251880039564706\n",
      "iteration:  750\n",
      "cov shape:  (2, 2)\n",
      "cov norm:  0.14142135623730953\n",
      "F val:  -0.28297571616288547\n",
      "iteration:  800\n",
      "cov shape:  (2, 2)\n",
      "cov norm:  0.14142135623730953\n",
      "F val:  -0.20323612675680525\n",
      "iteration:  850\n",
      "cov shape:  (2, 2)\n",
      "cov norm:  0.14142135623730953\n",
      "F val:  -0.4680757464071582\n",
      "iteration:  900\n",
      "cov shape:  (2, 2)\n",
      "cov norm:  0.14142135623730953\n",
      "F val:  -0.061303829895897444\n",
      "iteration:  950\n",
      "cov shape:  (2, 2)\n",
      "cov norm:  0.14142135623730953\n",
      "F val:  -0.8406875473560945\n"
     ]
    }
   ],
   "source": [
    "num_iters = 1000\n",
    "mu, cov_norms, obj_vals = fix_noisy_CEM(num_iters, Rosenbrock, pop_size=50)"
   ]
  },
  {
   "cell_type": "code",
   "execution_count": 29,
   "id": "vertical-postage",
   "metadata": {},
   "outputs": [
    {
     "data": {
      "image/png": "[encoded data removed]",
      "text/plain": [
       "<Figure size 432x288 with 1 Axes>"
      ]
     },
     "metadata": {
      "needs_background": "light"
     },
     "output_type": "display_data"
    }
   ],
   "source": [
    "# plot obj vals\n",
    "x = np.arange(num_iters) \n",
    "y = obj_vals\n",
    "plt.title(\"F vals - Rosenbrock - Fix Noisey CEM\") \n",
    "plt.xlabel(\"iter\") \n",
    "plt.ylabel(\"F\") \n",
    "plt.plot(x,y) \n",
    "plt.show()"
   ]
  },
  {
   "cell_type": "code",
   "execution_count": 30,
   "id": "first-graph",
   "metadata": {},
   "outputs": [
    {
     "name": "stdout",
     "output_type": "stream",
     "text": [
      "[0.16084407 0.14339513]\n"
     ]
    }
   ],
   "source": [
    "print(mu)"
   ]
  },
  {
   "cell_type": "markdown",
   "id": "proud-probe",
   "metadata": {},
   "source": [
    "#### It looks like we are already in the saddle, when we initialize mu around the standard normal\n",
    "\n",
    "So... can see what happens if we initialize mu further out"
   ]
  },
  {
   "cell_type": "code",
   "execution_count": null,
   "id": "disturbed-producer",
   "metadata": {},
   "outputs": [],
   "source": []
  },
  {
   "cell_type": "markdown",
   "id": "atmospheric-albania",
   "metadata": {},
   "source": [
    "#### Ok, let's try to make rosenbrock noisy"
   ]
  },
  {
   "cell_type": "code",
   "execution_count": 31,
   "id": "compact-dollar",
   "metadata": {},
   "outputs": [],
   "source": [
    "def NoisyRosenbrock(X):\n",
    "    if len(X.shape) == 1:\n",
    "        val = -1*(1-X[0])**2 + 100*(X[1]-X[0]**2)**2 + np.random.randn()\n",
    "        return val\n",
    "    else:\n",
    "        vals = np.zeros(X.shape[0])\n",
    "        for i in range(X.shape[0]):\n",
    "            vals[i] = (1-X[i,0])**2 + 100*(X[i,1]-X[i,0]**2)**2 + np.random.randn()\n",
    "        return -1*vals"
   ]
  },
  {
   "cell_type": "code",
   "execution_count": 32,
   "id": "further-wiring",
   "metadata": {},
   "outputs": [
    {
     "name": "stdout",
     "output_type": "stream",
     "text": [
      "init cov shape:  (2, 2)\n",
      "iteration:  0\n",
      "cov shape:  (2, 2)\n",
      "cov norm:  0.14142135623730953\n",
      "F val:  243.05913082815425\n",
      "iteration:  50\n",
      "cov shape:  (2, 2)\n",
      "cov norm:  0.14142135623730953\n",
      "F val:  -1.3440480721335075\n",
      "iteration:  100\n",
      "cov shape:  (2, 2)\n",
      "cov norm:  0.14142135623730953\n",
      "F val:  0.49562456722657\n",
      "iteration:  150\n",
      "cov shape:  (2, 2)\n",
      "cov norm:  0.14142135623730953\n",
      "F val:  -1.0523336193966333\n",
      "iteration:  200\n",
      "cov shape:  (2, 2)\n",
      "cov norm:  0.14142135623730953\n",
      "F val:  0.1684051456169865\n",
      "iteration:  250\n",
      "cov shape:  (2, 2)\n",
      "cov norm:  0.14142135623730953\n",
      "F val:  -0.36712752914088465\n",
      "iteration:  300\n",
      "cov shape:  (2, 2)\n",
      "cov norm:  0.14142135623730953\n",
      "F val:  -0.6000530160465598\n",
      "iteration:  350\n",
      "cov shape:  (2, 2)\n",
      "cov norm:  0.14142135623730953\n",
      "F val:  0.6928331397567101\n",
      "iteration:  400\n",
      "cov shape:  (2, 2)\n",
      "cov norm:  0.14142135623730953\n",
      "F val:  -1.452742576159228\n",
      "iteration:  450\n",
      "cov shape:  (2, 2)\n",
      "cov norm:  0.14142135623730953\n",
      "F val:  -0.3867042519858734\n",
      "iteration:  500\n",
      "cov shape:  (2, 2)\n",
      "cov norm:  0.14142135623730953\n",
      "F val:  -0.052862609393548254\n",
      "iteration:  550\n",
      "cov shape:  (2, 2)\n",
      "cov norm:  0.14142135623730953\n",
      "F val:  -0.6083957748741444\n",
      "iteration:  600\n",
      "cov shape:  (2, 2)\n",
      "cov norm:  0.14142135623730953\n",
      "F val:  -0.5189850431351378\n",
      "iteration:  650\n",
      "cov shape:  (2, 2)\n",
      "cov norm:  0.14142135623730953\n",
      "F val:  -1.2751256443940215\n",
      "iteration:  700\n",
      "cov shape:  (2, 2)\n",
      "cov norm:  0.14142135623730953\n",
      "F val:  -0.4107334791978133\n",
      "iteration:  750\n",
      "cov shape:  (2, 2)\n",
      "cov norm:  0.14142135623730953\n",
      "F val:  -1.5894647528592571\n",
      "iteration:  800\n",
      "cov shape:  (2, 2)\n",
      "cov norm:  0.14142135623730953\n",
      "F val:  -2.0655710497690056\n",
      "iteration:  850\n",
      "cov shape:  (2, 2)\n",
      "cov norm:  0.14142135623730953\n",
      "F val:  -1.7491932807525372\n",
      "iteration:  900\n",
      "cov shape:  (2, 2)\n",
      "cov norm:  0.14142135623730953\n",
      "F val:  -0.827849594815854\n",
      "iteration:  950\n",
      "cov shape:  (2, 2)\n",
      "cov norm:  0.14142135623730953\n",
      "F val:  0.6462233805113123\n"
     ]
    }
   ],
   "source": [
    "num_iters = 1000\n",
    "mu, cov_norms, obj_vals = noisy_CEM(num_iters, NoisyRosenbrock, pop_size=50)"
   ]
  },
  {
   "cell_type": "code",
   "execution_count": 33,
   "id": "better-nothing",
   "metadata": {},
   "outputs": [
    {
     "data": {
      "image/png": "[encoded data removed]",
      "text/plain": [
       "<Figure size 432x288 with 1 Axes>"
      ]
     },
     "metadata": {
      "needs_background": "light"
     },
     "output_type": "display_data"
    }
   ],
   "source": [
    "x = np.arange(num_iters) \n",
    "y = obj_vals\n",
    "plt.title(\"F vals - Noisy Rosenbrock\") \n",
    "plt.xlabel(\"iter\") \n",
    "plt.ylabel(\"F\") \n",
    "plt.plot(x,y) \n",
    "plt.show()"
   ]
  },
  {
   "cell_type": "code",
   "execution_count": 34,
   "id": "reasonable-nicholas",
   "metadata": {},
   "outputs": [],
   "source": [
    "# plot the F values"
   ]
  },
  {
   "cell_type": "code",
   "execution_count": 35,
   "id": "reflected-baker",
   "metadata": {},
   "outputs": [],
   "source": [
    "# x = np.linspace(-10, 10, 150)\n",
    "# y = np.linspace(-10, 10, 150)\n",
    "\n",
    "# X, Y = np.meshgrid(x, y)\n",
    "# print(X.shape)\n",
    "# print(Y.shape)\n",
    "# Xs = np.zeros(150*150,2)\n",
    "# for i i \n",
    "\n",
    "# Z = Booth(X)\n",
    "# print(Z.shape)"
   ]
  },
  {
   "cell_type": "code",
   "execution_count": 36,
   "id": "joint-tulsa",
   "metadata": {},
   "outputs": [],
   "source": [
    "# # Test on quadratic fn\n",
    "# d = 2\n",
    "# M = np.random.rand(d, d)\n",
    "# # make it positive semidefinite\n",
    "# A = np.dot(M, M.T)\n",
    "# print(A)\n",
    "# B = np.random.rand(d)\n",
    "# print(B)\n",
    "# C = np.random.rand()"
   ]
  }
 ],
 "metadata": {
  "kernelspec": {
   "display_name": "Python 3",
   "language": "python",
   "name": "python3"
  },
  "language_info": {
   "codemirror_mode": {
    "name": "ipython",
    "version": 3
   },
   "file_extension": ".py",
   "mimetype": "text/x-python",
   "name": "python",
   "nbconvert_exporter": "python",
   "pygments_lexer": "ipython3",
   "version": "3.6.12"
  }
 },
 "nbformat": 4,
 "nbformat_minor": 5
}
